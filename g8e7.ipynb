{
 "cells": [
  {
   "cell_type": "code",
   "execution_count": 2,
   "metadata": {
    "collapsed": false
   },
   "outputs": [
    {
     "name": "stdout",
     "output_type": "stream",
     "text": [
      "Populating the interactive namespace from numpy and matplotlib\n"
     ]
    }
   ],
   "source": [
    "%pylab inline\n",
    "from __future__ import division\n",
    "import seaborn as sbn"
   ]
  },
  {
   "cell_type": "markdown",
   "metadata": {},
   "source": [
    "#Datos"
   ]
  },
  {
   "cell_type": "code",
   "execution_count": 3,
   "metadata": {
    "collapsed": true
   },
   "outputs": [],
   "source": [
    "P = array([ 18.71,   2.79,  13.61,  12.08,   1.89])\n",
    "F = array([4854., 2586., 3752., 3753., 2605.])\n",
    "t = array([200., 100., 150., 150., 100.])\n",
    "tc = 100.\n",
    "Fc = 1021.\n",
    "\n",
    "B = F/t - Fc/tc\n",
    "\n",
    "A = ones((len(P), 2))\n",
    "A[:, 1] = log(P.T)"
   ]
  },
  {
   "cell_type": "markdown",
   "metadata": {},
   "source": [
    "#Varianza\n",
    "$B_i = \\frac{F_i}{t_i} - \\frac{F_c}{t_c}$\n",
    "\n",
    "$Cov(B_i, B_j) =\\frac{Cov(F_i, F_j)}{t_i t_j} \\delta_{ij} + \\frac{Var(F_c)}{t_c^2}$"
   ]
  },
  {
   "cell_type": "code",
   "execution_count": 7,
   "metadata": {
    "collapsed": false
   },
   "outputs": [],
   "source": [
    "V = eye(len(P))\n",
    "fill_diagonal(V, F/t**2)\n",
    "V += Fc/tc**2"
   ]
  },
  {
   "cell_type": "code",
   "execution_count": 17,
   "metadata": {
    "collapsed": false
   },
   "outputs": [
    {
     "name": "stdout",
     "output_type": "stream",
     "text": [
      "alpha = -0.70 +- 0.05\n",
      "beta = 16.39 +- 0.37\n",
      "cov = 15.87\n"
     ]
    }
   ],
   "source": [
    "av = dot(A.T, inv(V))\n",
    "ava = dot(av, A)\n",
    "tita = dot(dot(inv(ava), av),B)\n",
    "print('alpha = {:.2f} +- {:.2f}'.format(tita[1], inv(ava)[1, 1]))\n",
    "print('beta = {:.2f} +- {:.2f}'.format(tita[0], inv(ava)[0, 0]))\n",
    "print('cov = {:.2f}'.format(ava[1,0]))"
   ]
  },
  {
   "cell_type": "markdown",
   "metadata": {},
   "source": [
    "#Plot"
   ]
  },
  {
   "cell_type": "code",
   "execution_count": 27,
   "metadata": {
    "collapsed": false
   },
   "outputs": [
    {
     "data": {
      "image/png": "[encoded data removed]",
      "text/plain": [
       "<matplotlib.figure.Figure at 0x7f498e7ff890>"
      ]
     },
     "metadata": {},
     "output_type": "display_data"
    }
   ],
   "source": [
    "errorbar(log(P), B, yerr= sqrt(diag(V)),fmt='o', label='datos')\n",
    "plot(log(sorted(P)), tita[0]+tita[1]*log(sorted(P)), 'r-', label='ajuste');\n",
    "xlabel('log(P)')\n",
    "ylabel('B')\n",
    "legend();"
   ]
  }
 ],
 "metadata": {
  "kernelspec": {
   "display_name": "Python 2",
   "language": "python",
   "name": "python2"
  },
  "language_info": {
   "codemirror_mode": {
    "name": "ipython",
    "version": 2
   },
   "file_extension": ".py",
   "mimetype": "text/x-python",
   "name": "python",
   "nbconvert_exporter": "python",
   "pygments_lexer": "ipython2",
   "version": "2.7.6"
  }
 },
 "nbformat": 4,
 "nbformat_minor": 0
}
